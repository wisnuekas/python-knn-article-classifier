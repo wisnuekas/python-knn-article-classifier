{
 "cells": [
  {
   "cell_type": "code",
   "execution_count": 45,
   "id": "28b4e9f6-dfd2-4298-a816-32ff658906d8",
   "metadata": {},
   "outputs": [],
   "source": [
    "# import nltk\n",
    "# from nltk.corpus import wordnet as wn\n",
    "# from nltk.corpus import genesis\n",
    "# nltk.download('genesis')\n",
    "# nltk.download('wordnet')\n",
    "# nltk.download('punkt')\n",
    "# nltk.download('averaged_perceptron_tagger')\n",
    "# genesis_ic = wn.ic(genesis, False, 0.0)\n",
    "\n",
    "import numpy as np\n",
    "import pandas as pd\n",
    "from nltk.tokenize import word_tokenize\n",
    "from Sastrawi.Stemmer.StemmerFactory import StemmerFactory\n",
    "from Sastrawi.StopWordRemover.StopWordRemoverFactory import StopWordRemoverFactory, StopWordRemover, ArrayDictionary\n",
    "from nltk.corpus import stopwords\n",
    "from sklearn.metrics import roc_auc_score"
   ]
  },
  {
   "cell_type": "code",
   "execution_count": 46,
   "id": "5db247b1",
   "metadata": {},
   "outputs": [
    {
     "name": "stdout",
     "output_type": "stream",
     "text": [
      "                                               Judul    Kategori\n",
      "0  Anggap Daring Pembodohan, Plt Bupati Kudus Min...  Jateng-DIY\n",
      "1  DPR Kritik Niatan PKS Mau Kampanye Golput di P...    Nasional\n",
      "2  Adly Fairuz Disebut Cucu Wapres Ma?ruf Amin, I...    Nasional\n",
      "3  Segera Gelar Perkara, Jampidsus Kembali Sidik ...    Nasional\n",
      "4  Usai Tes Swab, 22 Anggota Bawaslu Boyolali Dik...  Jateng-DIY\n",
      "\n",
      "Size of input file is  (1220, 4)\n"
     ]
    }
   ],
   "source": [
    "# 1. Import dataset\n",
    "FILENAME = \"__data_crawl.csv\"\n",
    "dataset = pd.read_csv(FILENAME, header = 0, sep = \";\")\n",
    "\n",
    "dataset.rename(columns = {0:'Judul', 3:'Kategori'}, inplace = True)\n",
    "\n",
    "Num_Words = dataset.shape[0]\n",
    "\n",
    "title_kategori = dataset[['Judul', 'Kategori']]\n",
    "\n",
    "print(title_kategori.head())\n",
    "print(\"\\nSize of input file is \", dataset.shape)"
   ]
  },
  {
   "cell_type": "code",
   "execution_count": 48,
   "id": "4467834b",
   "metadata": {},
   "outputs": [
    {
     "name": "stdout",
     "output_type": "stream",
     "text": [
      "Below is the sample of training text after removing the stop words\n",
      "0       anggap bodoh plt bupati kudus minta uts gelar ...\n",
      "1       dpr kritik niat pks mau kampanye golput pilkad...\n",
      "2       adly fairuz sebut cucu wapres ma ruf amin bant...\n",
      "3       segera gelar perkara jampidsus sidik pinangki ...\n",
      "4       usai tes swab anggota bawaslu boyolali tahu po...\n",
      "                              ...                        \n",
      "1215         sumur bikin heboh keluar bensin brebes kuras\n",
      "1216         sumur bikin heboh keluar bensin brebes kuras\n",
      "1217              karyawan sehat sleman kena corona lebih\n",
      "1218                      suhu yogya asa sumuk jelas bmkg\n",
      "1219    viral rumah tua tengah kebun jati gunungkidul ...\n",
      "Name: Judul, Length: 1220, dtype: object\n"
     ]
    }
   ],
   "source": [
    "# 2. Preprocessing\n",
    "import re\n",
    "\n",
    "factory = StemmerFactory()\n",
    "stemmer = factory.create_stemmer()\n",
    "\n",
    "# menambahkan stopword\n",
    "stop_factory  = StopWordRemoverFactory().get_stop_words()\n",
    "more_stopword = ['daring', 'online'] \n",
    "s = stop_factory + more_stopword\n",
    "\n",
    "dictionary = ArrayDictionary(s)\n",
    "swr = StopWordRemover(dictionary)\n",
    "\n",
    "# stemming\n",
    "for i in range(dataset.shape[0]):\n",
    "    review = re.sub('[^a-zA-Z]', ' ', dataset.loc[i,'Judul'])\n",
    "    review = review.lower()\n",
    "    review = swr.remove(review)\n",
    "    review = stemmer.stem(review)\n",
    "    dataset.loc[i, 'Judul'] = review\n",
    "\n",
    "X_train = dataset['Judul']\n",
    "y_train = dataset['Kategori']\n",
    "print(\"Below is the sample of training text after removing the stop words\")\n",
    "print(dataset['Judul'])"
   ]
  },
  {
   "cell_type": "code",
   "execution_count": 49,
   "id": "1dba2100",
   "metadata": {},
   "outputs": [
    {
     "name": "stdout",
     "output_type": "stream",
     "text": [
      "\n",
      "TD-IDF Vectorizer\n",
      "\n",
      "       aa  abai  abbas  abdul  abg  abk  abstain  abu  acara  acha  ...  \\\n",
      "doc1  0.0   0.0    0.0    0.0  0.0  0.0      0.0  0.0    0.0   0.0  ...   \n",
      "doc2  0.0   0.0    0.0    0.0  0.0  0.0      0.0  0.0    0.0   0.0  ...   \n",
      "\n",
      "      zakat  zara  zein  ziarah  zombie  zona  zoni  zoro  zudianto  zuraida  \n",
      "doc1    0.0   0.0   0.0     0.0     0.0   0.0   0.0   0.0       0.0      0.0  \n",
      "doc2    0.0   0.0   0.0     0.0     0.0   0.0   0.0   0.0       0.0      0.0  \n",
      "\n",
      "[2 rows x 2966 columns]\n"
     ]
    }
   ],
   "source": [
    "from sklearn.feature_extraction.text import TfidfVectorizer, CountVectorizer\n",
    "from sklearn.neighbors import KNeighborsClassifier\n",
    "\n",
    "# TfidfVectorizer \n",
    "vectorizer = TfidfVectorizer(stop_words=s)\n",
    "X = vectorizer.fit_transform(X_train)\n",
    "\n",
    "# CountVectorizer\n",
    "# countvectorizer = CountVectorizer(stop_words=s)\n",
    "# countX = countvectorizer.fit_transform(X_train)\n",
    "\n",
    "# count_tokens = countvectorizer.get_feature_names()\n",
    "tfidf_tokens = vectorizer.get_feature_names()\n",
    "\n",
    "# arr_countX = countX.toarray()\n",
    "arr_X = X.toarray()\n",
    "# df_countvect = pd.DataFrame(data = [arr_countX[0], arr_countX[1]],index = ['doc1', 'doc2'],columns = count_tokens)\n",
    "df_tfidfvect = pd.DataFrame(data = [arr_X[0], arr_X[1]],index = ['doc1', 'doc2'],columns = tfidf_tokens)\n",
    "# print(\"Count Vectorizer\\n\")\n",
    "# display(df_countvect)\n",
    "# print(df_countvect)\n",
    "print(\"\\nTD-IDF Vectorizer\\n\")\n",
    "# display(df_tfidfvect)\n",
    "print(df_tfidfvect)"
   ]
  },
  {
   "cell_type": "code",
   "execution_count": 50,
   "id": "50a8019e-224b-4637-94b4-9c43cf736785",
   "metadata": {},
   "outputs": [
    {
     "name": "stdout",
     "output_type": "stream",
     "text": [
      "training done\n"
     ]
    }
   ],
   "source": [
    "# 3. Trainning Classifier\n",
    "\n",
    "classifier = KNeighborsClassifier(n_neighbors=1)\n",
    "classifier.fit(X,y_train)\n",
    "\n",
    "print ('training done')"
   ]
  },
  {
   "cell_type": "code",
   "execution_count": 51,
   "id": "12c1b8f9-94db-4daf-b47e-c41e594cad61",
   "metadata": {},
   "outputs": [
    {
     "name": "stdout",
     "output_type": "stream",
     "text": [
      "                                                Judul        Kategori\n",
      "0   Semarang Disebut Paling Tinggi Jumlah Kasus Ak...      Jateng-DIY\n",
      "1   Abstain, PKS Buka Opsi Kampanye Golput di Pilk...      Jateng-DIY\n",
      "2   Jokowi Minta Gubernur Waspadai Angka Virus Cor...        Nasional\n",
      "3   Satu RT di Yogya Lockdown Lokal Buntut Klaster...      Jateng-DIY\n",
      "4             Permintaan Gas Melon Meningkat di Tegal      Jateng-DIY\n",
      "5   Terinfeksi Corona, Kepala MTs N 2 Solo Meningg...      Jateng-DIY\n",
      "6   Pertamina Bimbing Warga Mernek Manfaatkan Pelu...      Jateng-DIY\n",
      "7   Pertengahan 2021 Vaksin Merah Putih Siap Dipro...        Nasional\n",
      "8   Sita BMW, Kejagung Jerat Pinangki dengan Pasal...        Nasional\n",
      "9   Jokowi Ingatkan PR Besar Gubernur, Turunkan An...        Nasional\n",
      "10      Ada 1 Anak Novel Baswedan Tak Tertular Corona        Nasional\n",
      "11  Dalami Kasus Pinangki, Kejagung Geledah Dealer...        Nasional\n",
      "12  Hamil Tak Punya Suami, Ibu Ini Tega Rendam Bay...      Jateng-DIY\n",
      "13  Soal Keberadaan Din Syamsuddin di MWA Senat Ak...      Jateng-DIY\n",
      "14  Alasan untuk Biaya Nikah Sejoli di Yogya Ini C...        Nasional\n",
      "15  Jokowi Soroti Belanja Daerah Masih Minim Saat ...        Nasional\n",
      "16  Chadwick Boseman Meninggal, Film Black Panther...  Entertaintment\n",
      "17  Brotoseno, Kekasih Baru Tata Janeeta Mantan Su...  Entertaintment\n",
      "18  Komposer Thor: Ragnarok Hampir Mati karena Vir...  Entertaintment\n",
      "19  MPR Dukung Vaksin Covid-19 Ada Sertifikat Hala...        Nasional\n"
     ]
    }
   ],
   "source": [
    "# 4. Pengujian\n",
    "\n",
    "final_test_list = [\n",
    "    \"Semarang Disebut Paling Tinggi Jumlah Kasus Aktif Corona di Atas 1000\", \n",
    "    \"Abstain, PKS Buka Opsi Kampanye Golput di Pilkada Solo\",\n",
    "    \"Jokowi Minta Gubernur Waspadai Angka Virus Corona di Wilayahnya\",\n",
    "    \"Satu RT di Yogya Lockdown Lokal Buntut Klaster Soto Lamongan\",\n",
    "    \"Permintaan Gas Melon Meningkat di Tegal\",\n",
    "    \"Terinfeksi Corona, Kepala MTs N 2 Solo Meninggal Dunia\",\n",
    "    \"Pertamina Bimbing Warga Mernek Manfaatkan Peluang Usaha\",\n",
    "    \"Pertengahan 2021 Vaksin Merah Putih Siap Diproduksi\",\n",
    "    \"Sita BMW, Kejagung Jerat Pinangki dengan Pasal Pencucian Uang\",\n",
    "    \"Jokowi Ingatkan PR Besar Gubernur, Turunkan Angka Kematian karena Corana\",\n",
    "    \"Ada 1 Anak Novel Baswedan Tak Tertular Corona\",\n",
    "    \"Dalami Kasus Pinangki, Kejagung Geledah Dealer Mobil dan 2 Apartemen di Jaksel\",\n",
    "    \"Hamil Tak Punya Suami, Ibu Ini Tega Rendam Bayinya hingga Tewas\",\n",
    "    \"Soal Keberadaan Din Syamsuddin di MWA Senat Akademik ITB Buka Suara\",\n",
    "    \"Alasan untuk Biaya Nikah Sejoli di Yogya Ini Colong Mobil\",\n",
    "    \"Jokowi Soroti Belanja Daerah Masih Minim Saat Bicara Resesi di Depan Gubernur\",\n",
    "    \"Chadwick Boseman Meninggal, Film Black Panther Laris Ditonton Ulang\",\n",
    "    \"Brotoseno, Kekasih Baru Tata Janeeta Mantan Suami Angelina Sondakh?\",\n",
    "    \"Komposer Thor: Ragnarok Hampir Mati karena Virus Corona\",\n",
    "    \"MPR Dukung Vaksin Covid-19 Ada Sertifikat Halal Sebelum Diedarkan\",\n",
    "]\n",
    "\n",
    "test_corpus = []\n",
    "for i in range(len(final_test_list)):\n",
    "    review = re.sub(\"[^a-zA-Z]\", \" \", final_test_list[i])\n",
    "    review = review.lower()\n",
    "    review = swr.remove(review)\n",
    "    review = stemmer.stem(review)\n",
    "    test_corpus.append(review)\n",
    "    \n",
    "test = vectorizer.transform(test_corpus)\n",
    "\n",
    "y_test = classifier.predict(test)\n",
    "\n",
    "output_df = pd.DataFrame(data={\"Judul\": final_test_list, \"Kategori\": y_test})\n",
    "print(output_df)"
   ]
  },
  {
   "cell_type": "code",
   "execution_count": 52,
   "id": "d1dfa552-ddca-45e8-a9a7-02d2dfe817d5",
   "metadata": {},
   "outputs": [
    {
     "name": "stdout",
     "output_type": "stream",
     "text": [
      "    Kategori Benar       Hasil Uji\n",
      "0         Nasional      Jateng-DIY\n",
      "1       Jateng-DIY      Jateng-DIY\n",
      "2         Nasional        Nasional\n",
      "3       Jateng-DIY      Jateng-DIY\n",
      "4          Ekonomi      Jateng-DIY\n",
      "5       Jateng-DIY      Jateng-DIY\n",
      "6          Ekonomi      Jateng-DIY\n",
      "7         Nasional        Nasional\n",
      "8         Nasional        Nasional\n",
      "9         Nasional        Nasional\n",
      "10        Nasional        Nasional\n",
      "11        Nasional        Nasional\n",
      "12      Jateng-DIY      Jateng-DIY\n",
      "13        Nasional      Jateng-DIY\n",
      "14      Jateng-DIY        Nasional\n",
      "15        Nasional        Nasional\n",
      "16  Entertaintment  Entertaintment\n",
      "17  Entertaintment  Entertaintment\n",
      "18  Entertaintment  Entertaintment\n",
      "19        Nasional        Nasional\n",
      "\n",
      "Hasil confusion matrix\n",
      "[[0 0 0 0]\n",
      " [0 3 0 0]\n",
      " [2 0 4 2]\n",
      " [0 0 1 8]]\n",
      "                precision    recall  f1-score   support\n",
      "\n",
      "       Ekonomi       0.00      0.00      0.00         0\n",
      "Entertaintment       1.00      1.00      1.00         3\n",
      "    Jateng-DIY       0.80      0.50      0.62         8\n",
      "      Nasional       0.80      0.89      0.84         9\n",
      "\n",
      "      accuracy                           0.75        20\n",
      "     macro avg       0.65      0.60      0.61        20\n",
      "  weighted avg       0.83      0.75      0.78        20\n",
      "\n",
      "Akurasi\n",
      "0.75\n"
     ]
    },
    {
     "name": "stderr",
     "output_type": "stream",
     "text": [
      "c:\\users\\rapiertech\\appdata\\local\\programs\\python\\python39\\lib\\site-packages\\sklearn\\metrics\\_classification.py:1248: UndefinedMetricWarning: Recall and F-score are ill-defined and being set to 0.0 in labels with no true samples. Use `zero_division` parameter to control this behavior.\n",
      "  _warn_prf(average, modifier, msg_start, len(result))\n",
      "c:\\users\\rapiertech\\appdata\\local\\programs\\python\\python39\\lib\\site-packages\\sklearn\\metrics\\_classification.py:1248: UndefinedMetricWarning: Recall and F-score are ill-defined and being set to 0.0 in labels with no true samples. Use `zero_division` parameter to control this behavior.\n",
      "  _warn_prf(average, modifier, msg_start, len(result))\n",
      "c:\\users\\rapiertech\\appdata\\local\\programs\\python\\python39\\lib\\site-packages\\sklearn\\metrics\\_classification.py:1248: UndefinedMetricWarning: Recall and F-score are ill-defined and being set to 0.0 in labels with no true samples. Use `zero_division` parameter to control this behavior.\n",
      "  _warn_prf(average, modifier, msg_start, len(result))\n"
     ]
    },
    {
     "data": {
      "image/png": "[encoded data removed]",
      "text/plain": [
       "<Figure size 576x576 with 2 Axes>"
      ]
     },
     "metadata": {
      "needs_background": "light"
     },
     "output_type": "display_data"
    }
   ],
   "source": [
    "# 5. Hasil Uji\n",
    "import seaborn as sns\n",
    "import matplotlib.pyplot as plt\n",
    "from sklearn.metrics import classification_report, confusion_matrix, accuracy_score\n",
    "\n",
    "y_pred = [\n",
    "    \"Nasional\", \n",
    "    \"Jateng-DIY\", \n",
    "    \"Nasional\", \n",
    "    \"Jateng-DIY\", \n",
    "    \"Ekonomi\", \n",
    "    \"Jateng-DIY\", \n",
    "    \"Ekonomi\", \n",
    "    \"Nasional\",\n",
    "    \"Nasional\",\n",
    "    \"Nasional\",\n",
    "    \"Nasional\",\n",
    "    \"Nasional\",\n",
    "    \"Jateng-DIY\",\n",
    "    \"Nasional\",\n",
    "    \"Jateng-DIY\",\n",
    "    \"Nasional\",\n",
    "    \"Entertaintment\",\n",
    "    \"Entertaintment\",\n",
    "    \"Entertaintment\",\n",
    "    \"Nasional\",   \n",
    "]\n",
    "\n",
    "compare_y = pd.DataFrame(data={\"Kategori Benar\": y_pred, \"Hasil Uji\": y_test})\n",
    "print(compare_y)\n",
    "\n",
    "print ('\\nHasil confusion matrix')\n",
    "print (confusion_matrix(y_test, y_pred))\n",
    "print (classification_report(y_test, y_pred))\n",
    "print ('Akurasi')\n",
    "print(accuracy_score(y_test, y_pred))\n",
    "\n",
    "f, ax = plt.subplots(figsize=(8,8))\n",
    "sns.heatmap(confusion_matrix(y_test, y_pred), annot=True, fmt=\".0f\", ax=ax)\n",
    "plt.ylabel(\"Actual\")\n",
    "plt.xlabel(\"Predicted\")\n",
    "plt.show()\n"
   ]
  },
  {
   "cell_type": "code",
   "execution_count": 53,
   "id": "fa92469e-0588-44b5-8c2f-b3b3c9e0853e",
   "metadata": {},
   "outputs": [
    {
     "name": "stdout",
     "output_type": "stream",
     "text": [
      "Jika K = 1 nilai Confusion = ?\n",
      "\n",
      "Confusion Matrix:\n",
      "[[0 0 0 0]\n",
      " [0 3 0 0]\n",
      " [2 0 4 2]\n",
      " [0 0 1 8]]\n",
      "                precision    recall  f1-score   support\n",
      "\n",
      "       Ekonomi       0.00      0.00      0.00         0\n",
      "Entertaintment       1.00      1.00      1.00         3\n",
      "    Jateng-DIY       0.80      0.50      0.62         8\n",
      "      Nasional       0.80      0.89      0.84         9\n",
      "\n",
      "      accuracy                           0.75        20\n",
      "     macro avg       0.65      0.60      0.61        20\n",
      "  weighted avg       0.83      0.75      0.78        20\n",
      "\n",
      "Akurasi:\n",
      "0.75\n"
     ]
    },
    {
     "name": "stderr",
     "output_type": "stream",
     "text": [
      "c:\\users\\rapiertech\\appdata\\local\\programs\\python\\python39\\lib\\site-packages\\sklearn\\metrics\\_classification.py:1248: UndefinedMetricWarning: Recall and F-score are ill-defined and being set to 0.0 in labels with no true samples. Use `zero_division` parameter to control this behavior.\n",
      "  _warn_prf(average, modifier, msg_start, len(result))\n",
      "c:\\users\\rapiertech\\appdata\\local\\programs\\python\\python39\\lib\\site-packages\\sklearn\\metrics\\_classification.py:1248: UndefinedMetricWarning: Recall and F-score are ill-defined and being set to 0.0 in labels with no true samples. Use `zero_division` parameter to control this behavior.\n",
      "  _warn_prf(average, modifier, msg_start, len(result))\n",
      "c:\\users\\rapiertech\\appdata\\local\\programs\\python\\python39\\lib\\site-packages\\sklearn\\metrics\\_classification.py:1248: UndefinedMetricWarning: Recall and F-score are ill-defined and being set to 0.0 in labels with no true samples. Use `zero_division` parameter to control this behavior.\n",
      "  _warn_prf(average, modifier, msg_start, len(result))\n"
     ]
    }
   ],
   "source": [
    "# Hasilnya :\n",
    "# Jika K = 1 nilai Confusion = ?\n",
    "classifierK1 = KNeighborsClassifier(n_neighbors=1)\n",
    "classifierK1.fit(X,y_train)\n",
    "y_testK1 = classifierK1.predict(test)\n",
    "print ('Jika K = 1 nilai Confusion = ?\\n')\n",
    "print ('Confusion Matrix:')\n",
    "print (confusion_matrix(y_testK1, y_pred))\n",
    "print (classification_report(y_testK1, y_pred))\n",
    "print ('Akurasi:')\n",
    "print(accuracy_score(y_testK1, y_pred))"
   ]
  },
  {
   "cell_type": "code",
   "execution_count": 54,
   "id": "71fc60d8-37f7-4dfa-81e9-c56f136b7cf5",
   "metadata": {},
   "outputs": [
    {
     "name": "stdout",
     "output_type": "stream",
     "text": [
      "Jika K = 2 nilai Confusion = ?\n",
      "\n",
      "Confusion Matrix:\n",
      "[[0 0 0 0]\n",
      " [0 3 0 0]\n",
      " [2 0 4 2]\n",
      " [0 0 1 8]]\n",
      "                precision    recall  f1-score   support\n",
      "\n",
      "       Ekonomi       0.00      0.00      0.00         0\n",
      "Entertaintment       1.00      1.00      1.00         3\n",
      "    Jateng-DIY       0.80      0.50      0.62         8\n",
      "      Nasional       0.80      0.89      0.84         9\n",
      "\n",
      "      accuracy                           0.75        20\n",
      "     macro avg       0.65      0.60      0.61        20\n",
      "  weighted avg       0.83      0.75      0.78        20\n",
      "\n",
      "Akurasi:\n",
      "0.75\n"
     ]
    },
    {
     "name": "stderr",
     "output_type": "stream",
     "text": [
      "c:\\users\\rapiertech\\appdata\\local\\programs\\python\\python39\\lib\\site-packages\\sklearn\\metrics\\_classification.py:1248: UndefinedMetricWarning: Recall and F-score are ill-defined and being set to 0.0 in labels with no true samples. Use `zero_division` parameter to control this behavior.\n",
      "  _warn_prf(average, modifier, msg_start, len(result))\n",
      "c:\\users\\rapiertech\\appdata\\local\\programs\\python\\python39\\lib\\site-packages\\sklearn\\metrics\\_classification.py:1248: UndefinedMetricWarning: Recall and F-score are ill-defined and being set to 0.0 in labels with no true samples. Use `zero_division` parameter to control this behavior.\n",
      "  _warn_prf(average, modifier, msg_start, len(result))\n",
      "c:\\users\\rapiertech\\appdata\\local\\programs\\python\\python39\\lib\\site-packages\\sklearn\\metrics\\_classification.py:1248: UndefinedMetricWarning: Recall and F-score are ill-defined and being set to 0.0 in labels with no true samples. Use `zero_division` parameter to control this behavior.\n",
      "  _warn_prf(average, modifier, msg_start, len(result))\n"
     ]
    }
   ],
   "source": [
    "# Jika K = 2 nilai Confusion = ?\n",
    "classifierK2 = KNeighborsClassifier(n_neighbors=2)\n",
    "classifierK2.fit(X,y_train)\n",
    "y_testK2 = classifierK1.predict(test)\n",
    "print ('Jika K = 2 nilai Confusion = ?\\n')\n",
    "print ('Confusion Matrix:')\n",
    "print (confusion_matrix(y_testK2, y_pred))\n",
    "print (classification_report(y_testK2, y_pred))\n",
    "print ('Akurasi:')\n",
    "print(accuracy_score(y_testK2, y_pred))"
   ]
  },
  {
   "cell_type": "code",
   "execution_count": 55,
   "id": "3045ea45-7a45-4677-ad18-86650da8ad26",
   "metadata": {},
   "outputs": [
    {
     "name": "stdout",
     "output_type": "stream",
     "text": [
      "Jika K = 3 nilai Confusion = ?\n",
      "\n",
      "Confusion Matrix:\n",
      "[[0 0 0 0]\n",
      " [0 3 0 0]\n",
      " [2 0 4 2]\n",
      " [0 0 1 8]]\n",
      "                precision    recall  f1-score   support\n",
      "\n",
      "       Ekonomi       0.00      0.00      0.00         0\n",
      "Entertaintment       1.00      1.00      1.00         3\n",
      "    Jateng-DIY       0.80      0.50      0.62         8\n",
      "      Nasional       0.80      0.89      0.84         9\n",
      "\n",
      "      accuracy                           0.75        20\n",
      "     macro avg       0.65      0.60      0.61        20\n",
      "  weighted avg       0.83      0.75      0.78        20\n",
      "\n",
      "Akurasi:\n",
      "0.75\n"
     ]
    },
    {
     "name": "stderr",
     "output_type": "stream",
     "text": [
      "c:\\users\\rapiertech\\appdata\\local\\programs\\python\\python39\\lib\\site-packages\\sklearn\\metrics\\_classification.py:1248: UndefinedMetricWarning: Recall and F-score are ill-defined and being set to 0.0 in labels with no true samples. Use `zero_division` parameter to control this behavior.\n",
      "  _warn_prf(average, modifier, msg_start, len(result))\n",
      "c:\\users\\rapiertech\\appdata\\local\\programs\\python\\python39\\lib\\site-packages\\sklearn\\metrics\\_classification.py:1248: UndefinedMetricWarning: Recall and F-score are ill-defined and being set to 0.0 in labels with no true samples. Use `zero_division` parameter to control this behavior.\n",
      "  _warn_prf(average, modifier, msg_start, len(result))\n",
      "c:\\users\\rapiertech\\appdata\\local\\programs\\python\\python39\\lib\\site-packages\\sklearn\\metrics\\_classification.py:1248: UndefinedMetricWarning: Recall and F-score are ill-defined and being set to 0.0 in labels with no true samples. Use `zero_division` parameter to control this behavior.\n",
      "  _warn_prf(average, modifier, msg_start, len(result))\n"
     ]
    }
   ],
   "source": [
    "# Jika K = 3 nilai Confusion = ?\n",
    "classifierK3 = KNeighborsClassifier(n_neighbors=3)\n",
    "classifierK3.fit(X,y_train)\n",
    "y_testK3 = classifierK1.predict(test)\n",
    "print ('Jika K = 3 nilai Confusion = ?\\n')\n",
    "print ('Confusion Matrix:')\n",
    "print (confusion_matrix(y_testK3, y_pred))\n",
    "print (classification_report(y_testK3, y_pred))\n",
    "print ('Akurasi:')\n",
    "print(accuracy_score(y_testK3, y_pred))"
   ]
  },
  {
   "cell_type": "code",
   "execution_count": null,
   "id": "45488f69-ba83-42b1-a9f4-e53a85f6997a",
   "metadata": {},
   "outputs": [],
   "source": []
  }
 ],
 "metadata": {
  "kernelspec": {
   "display_name": "Python 3",
   "language": "python",
   "name": "python3"
  },
  "language_info": {
   "codemirror_mode": {
    "name": "ipython",
    "version": 3
   },
   "file_extension": ".py",
   "mimetype": "text/x-python",
   "name": "python",
   "nbconvert_exporter": "python",
   "pygments_lexer": "ipython3",
   "version": "3.9.5"
  }
 },
 "nbformat": 4,
 "nbformat_minor": 5
}
